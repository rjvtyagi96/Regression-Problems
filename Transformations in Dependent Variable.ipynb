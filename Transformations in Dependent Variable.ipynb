{
 "cells": [
  {
   "cell_type": "code",
   "execution_count": 1,
   "metadata": {},
   "outputs": [],
   "source": [
    "import pandas as pd\n",
    "import matplotlib.pyplot as plt\n",
    "import numpy as np\n",
    "import statsmodels.api as sm"
   ]
  },
  {
   "cell_type": "code",
   "execution_count": 2,
   "metadata": {},
   "outputs": [
    {
     "data": {
      "text/html": [
       "<div>\n",
       "<style scoped>\n",
       "    .dataframe tbody tr th:only-of-type {\n",
       "        vertical-align: middle;\n",
       "    }\n",
       "\n",
       "    .dataframe tbody tr th {\n",
       "        vertical-align: top;\n",
       "    }\n",
       "\n",
       "    .dataframe thead th {\n",
       "        text-align: right;\n",
       "    }\n",
       "</style>\n",
       "<table border=\"1\" class=\"dataframe\">\n",
       "  <thead>\n",
       "    <tr style=\"text-align: right;\">\n",
       "      <th></th>\n",
       "      <th>Miles_per_Gallon</th>\n",
       "      <th>Weight_of_vehicle</th>\n",
       "    </tr>\n",
       "  </thead>\n",
       "  <tbody>\n",
       "    <tr>\n",
       "      <th>0</th>\n",
       "      <td>28.7</td>\n",
       "      <td>2289</td>\n",
       "    </tr>\n",
       "    <tr>\n",
       "      <th>1</th>\n",
       "      <td>29.2</td>\n",
       "      <td>2113</td>\n",
       "    </tr>\n",
       "    <tr>\n",
       "      <th>2</th>\n",
       "      <td>34.2</td>\n",
       "      <td>2180</td>\n",
       "    </tr>\n",
       "    <tr>\n",
       "      <th>3</th>\n",
       "      <td>27.9</td>\n",
       "      <td>2448</td>\n",
       "    </tr>\n",
       "    <tr>\n",
       "      <th>4</th>\n",
       "      <td>33.3</td>\n",
       "      <td>2026</td>\n",
       "    </tr>\n",
       "  </tbody>\n",
       "</table>\n",
       "</div>"
      ],
      "text/plain": [
       "   Miles_per_Gallon  Weight_of_vehicle\n",
       "0              28.7               2289\n",
       "1              29.2               2113\n",
       "2              34.2               2180\n",
       "3              27.9               2448\n",
       "4              33.3               2026"
      ]
     },
     "execution_count": 2,
     "metadata": {},
     "output_type": "execute_result"
    }
   ],
   "source": [
    "dt = pd.read_excel(r'C:\\Users\\tyagir01\\Desktop\\Mileage.xlsx')\n",
    "dt.head()"
   ]
  },
  {
   "cell_type": "code",
   "execution_count": 3,
   "metadata": {},
   "outputs": [
    {
     "data": {
      "text/plain": [
       "Text(0.5, 0, 'Vehicle Weight(in Kgs)')"
      ]
     },
     "execution_count": 3,
     "metadata": {},
     "output_type": "execute_result"
    },
    {
     "data": {
      "image/png": "[encoded data removed]",
      "text/plain": [
       "<Figure size 432x288 with 1 Axes>"
      ]
     },
     "metadata": {
      "needs_background": "light"
     },
     "output_type": "display_data"
    }
   ],
   "source": [
    "plt.scatter(dt['Weight_of_vehicle'], dt['Miles_per_Gallon'])\n",
    "plt.ylabel('Mileage')\n",
    "plt.xlabel('Vehicle Weight(in Kgs)')"
   ]
  },
  {
   "cell_type": "code",
   "execution_count": 4,
   "metadata": {},
   "outputs": [
    {
     "name": "stdout",
     "output_type": "stream",
     "text": [
      "                            OLS Regression Results                            \n",
      "==============================================================================\n",
      "Dep. Variable:       Miles_per_Gallon   R-squared:                       0.935\n",
      "Model:                            OLS   Adj. R-squared:                  0.929\n",
      "Method:                 Least Squares   F-statistic:                     144.8\n",
      "Date:                Sat, 16 May 2020   Prob (F-statistic):           2.85e-07\n",
      "Time:                        17:01:44   Log-Likelihood:                -22.091\n",
      "No. Observations:                  12   AIC:                             48.18\n",
      "Df Residuals:                      10   BIC:                             49.15\n",
      "Df Model:                           1                                         \n",
      "Covariance Type:            nonrobust                                         \n",
      "=====================================================================================\n",
      "                        coef    std err          t      P>|t|      [0.025      0.975]\n",
      "-------------------------------------------------------------------------------------\n",
      "const                56.0957      2.582     21.725      0.000      50.342      61.849\n",
      "Weight_of_vehicle    -0.0116      0.001    -12.032      0.000      -0.014      -0.009\n",
      "==============================================================================\n",
      "Omnibus:                        2.266   Durbin-Watson:                   2.213\n",
      "Prob(Omnibus):                  0.322   Jarque-Bera (JB):                0.951\n",
      "Skew:                           0.690   Prob(JB):                        0.621\n",
      "Kurtosis:                       3.025   Cond. No.                     1.43e+04\n",
      "==============================================================================\n",
      "\n",
      "Warnings:\n",
      "[1] Standard Errors assume that the covariance matrix of the errors is correctly specified.\n",
      "[2] The condition number is large, 1.43e+04. This might indicate that there are\n",
      "strong multicollinearity or other numerical problems.\n"
     ]
    },
    {
     "name": "stderr",
     "output_type": "stream",
     "text": [
      "C:\\Users\\tyagir01\\Anaconda3\\lib\\site-packages\\scipy\\stats\\stats.py:1535: UserWarning: kurtosistest only valid for n>=20 ... continuing anyway, n=12\n",
      "  \"anyway, n=%i\" % int(n))\n"
     ]
    }
   ],
   "source": [
    "X = dt['Weight_of_vehicle']\n",
    "y = dt['Miles_per_Gallon']\n",
    "x = sm.add_constant(X)\n",
    "mdl = sm.OLS(y,x).fit()\n",
    "print(mdl.summary())"
   ]
  },
  {
   "cell_type": "code",
   "execution_count": 5,
   "metadata": {},
   "outputs": [
    {
     "data": {
      "text/plain": [
       "array([-0.44511273, -1.37252481,  2.08753315,  0.18422536,  0.47540179,\n",
       "        1.05668329, -0.75350063, -0.64311699, -0.25953343,  0.4879158 ,\n",
       "        0.12130227, -0.93927307])"
      ]
     },
     "execution_count": 5,
     "metadata": {},
     "output_type": "execute_result"
    }
   ],
   "source": [
    "Std_rsd = mdl.resid_pearson\n",
    "Std_rsd"
   ]
  },
  {
   "cell_type": "code",
   "execution_count": 7,
   "metadata": {},
   "outputs": [
    {
     "data": {
      "text/plain": [
       "0     29.443573\n",
       "1     31.492839\n",
       "2     30.712721\n",
       "3     27.592247\n",
       "4     32.505829\n",
       "5     24.634783\n",
       "6     25.158743\n",
       "7     31.574344\n",
       "8     18.533557\n",
       "9     18.684924\n",
       "10    14.097361\n",
       "11    22.469081\n",
       "dtype: float64"
      ]
     },
     "execution_count": 7,
     "metadata": {},
     "output_type": "execute_result"
    }
   ],
   "source": [
    "y_hat = mdl.predict(x)\n",
    "y_hat"
   ]
  },
  {
   "cell_type": "code",
   "execution_count": 8,
   "metadata": {},
   "outputs": [
    {
     "data": {
      "text/plain": [
       "<matplotlib.collections.PathCollection at 0x15f09141f08>"
      ]
     },
     "execution_count": 8,
     "metadata": {},
     "output_type": "execute_result"
    },
    {
     "data": {
      "image/png": "[encoded data removed]",
      "text/plain": [
       "<Figure size 432x288 with 1 Axes>"
      ]
     },
     "metadata": {
      "needs_background": "light"
     },
     "output_type": "display_data"
    }
   ],
   "source": [
    "plt.scatter(y_hat, Std_rsd)\n",
    "\n",
    "#it gives inconsistent variance of residuals which violates our model assumptions."
   ]
  },
  {
   "cell_type": "code",
   "execution_count": 9,
   "metadata": {},
   "outputs": [
    {
     "data": {
      "text/plain": [
       "0     3.356897\n",
       "1     3.374169\n",
       "2     3.532226\n",
       "3     3.328627\n",
       "4     3.505557\n",
       "5     3.273364\n",
       "6     3.173878\n",
       "7     3.417727\n",
       "8     2.895912\n",
       "9     2.970414\n",
       "10    2.660260\n",
       "11    3.039749\n",
       "Name: Miles_per_Gallon, dtype: float64"
      ]
     },
     "execution_count": 9,
     "metadata": {},
     "output_type": "execute_result"
    }
   ],
   "source": [
    "# solution to this is taking log of 'Dependent Variable'\n",
    "Y = np.log(y)\n",
    "Y"
   ]
  },
  {
   "cell_type": "code",
   "execution_count": 10,
   "metadata": {},
   "outputs": [
    {
     "name": "stdout",
     "output_type": "stream",
     "text": [
      "                            OLS Regression Results                            \n",
      "==============================================================================\n",
      "Dep. Variable:       Miles_per_Gallon   R-squared:                       0.948\n",
      "Model:                            OLS   Adj. R-squared:                  0.942\n",
      "Method:                 Least Squares   F-statistic:                     181.2\n",
      "Date:                Sat, 16 May 2020   Prob (F-statistic):           9.84e-08\n",
      "Time:                        17:20:42   Log-Likelihood:                 17.005\n",
      "No. Observations:                  12   AIC:                            -30.01\n",
      "Df Residuals:                      10   BIC:                            -29.04\n",
      "Df Model:                           1                                         \n",
      "Covariance Type:            nonrobust                                         \n",
      "=====================================================================================\n",
      "                        coef    std err          t      P>|t|      [0.025      0.975]\n",
      "-------------------------------------------------------------------------------------\n",
      "const                 4.5242      0.099     45.553      0.000       4.303       4.746\n",
      "Weight_of_vehicle    -0.0005   3.72e-05    -13.462      0.000      -0.001      -0.000\n",
      "==============================================================================\n",
      "Omnibus:                        0.899   Durbin-Watson:                   2.284\n",
      "Prob(Omnibus):                  0.638   Jarque-Bera (JB):                0.779\n",
      "Skew:                           0.484   Prob(JB):                        0.677\n",
      "Kurtosis:                       2.211   Cond. No.                     1.43e+04\n",
      "==============================================================================\n",
      "\n",
      "Warnings:\n",
      "[1] Standard Errors assume that the covariance matrix of the errors is correctly specified.\n",
      "[2] The condition number is large, 1.43e+04. This might indicate that there are\n",
      "strong multicollinearity or other numerical problems.\n"
     ]
    }
   ],
   "source": [
    "model = sm.OLS(Y,x).fit()\n",
    "print(model.summary())"
   ]
  },
  {
   "cell_type": "code",
   "execution_count": 12,
   "metadata": {},
   "outputs": [
    {
     "data": {
      "text/plain": [
       "array([-0.31630114, -1.42005514,  1.5623004 ,  0.48370101, -0.0537228 ,\n",
       "        1.60448776, -0.29474869, -0.79674991, -0.18335787,  0.87474775,\n",
       "       -0.87956572, -0.58073564])"
      ]
     },
     "execution_count": 12,
     "metadata": {},
     "output_type": "execute_result"
    }
   ],
   "source": [
    "E = model.resid_pearson\n",
    "E"
   ]
  },
  {
   "cell_type": "code",
   "execution_count": 13,
   "metadata": {},
   "outputs": [
    {
     "data": {
      "text/plain": [
       "0     3.377221\n",
       "1     3.465414\n",
       "2     3.431840\n",
       "3     3.297547\n",
       "4     3.509009\n",
       "5     3.170268\n",
       "6     3.192817\n",
       "7     3.468922\n",
       "8     2.907694\n",
       "9     2.914208\n",
       "10    2.716776\n",
       "11    3.077064\n",
       "dtype: float64"
      ]
     },
     "execution_count": 13,
     "metadata": {},
     "output_type": "execute_result"
    }
   ],
   "source": [
    "y_log_hat = model.predict(x)\n",
    "y_log_hat"
   ]
  },
  {
   "cell_type": "code",
   "execution_count": 15,
   "metadata": {},
   "outputs": [
    {
     "data": {
      "text/plain": [
       "Text(0.5, 0, 'Independent Variable')"
      ]
     },
     "execution_count": 15,
     "metadata": {},
     "output_type": "execute_result"
    },
    {
     "data": {
      "image/png": "[encoded data removed]",
      "text/plain": [
       "<Figure size 432x288 with 1 Axes>"
      ]
     },
     "metadata": {
      "needs_background": "light"
     },
     "output_type": "display_data"
    }
   ],
   "source": [
    "plt.scatter(y_log_hat,E)\n",
    "plt.ylabel('Natural Lof of Y- variable')\n",
    "plt.xlabel('Independent Variable')"
   ]
  },
  {
   "cell_type": "code",
   "execution_count": null,
   "metadata": {},
   "outputs": [],
   "source": []
  }
 ],
 "metadata": {
  "kernelspec": {
   "display_name": "Python 3",
   "language": "python",
   "name": "python3"
  },
  "language_info": {
   "codemirror_mode": {
    "name": "ipython",
    "version": 3
   },
   "file_extension": ".py",
   "mimetype": "text/x-python",
   "name": "python",
   "nbconvert_exporter": "python",
   "pygments_lexer": "ipython3",
   "version": "3.7.6"
  }
 },
 "nbformat": 4,
 "nbformat_minor": 4
}
